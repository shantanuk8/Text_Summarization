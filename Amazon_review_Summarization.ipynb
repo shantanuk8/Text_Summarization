{
 "cells": [
  {
   "cell_type": "code",
   "execution_count": 48,
   "metadata": {
    "colab": {
     "base_uri": "https://localhost:8080/"
    },
    "id": "NkNEATQ61wfS",
    "outputId": "64419172-f53a-4707-c0b1-cb04ce6153ab"
   },
   "outputs": [
    {
     "name": "stdout",
     "output_type": "stream",
     "text": [
      "Sat May  8 06:49:57 2021       \n",
      "+-----------------------------------------------------------------------------+\n",
      "| NVIDIA-SMI 465.19.01    Driver Version: 460.32.03    CUDA Version: 11.2     |\n",
      "|-------------------------------+----------------------+----------------------+\n",
      "| GPU  Name        Persistence-M| Bus-Id        Disp.A | Volatile Uncorr. ECC |\n",
      "| Fan  Temp  Perf  Pwr:Usage/Cap|         Memory-Usage | GPU-Util  Compute M. |\n",
      "|                               |                      |               MIG M. |\n",
      "|===============================+======================+======================|\n",
      "|   0  Tesla V100-SXM2...  Off  | 00000000:00:04.0 Off |                    0 |\n",
      "| N/A   38C    P0    42W / 300W |   1569MiB / 16160MiB |      0%      Default |\n",
      "|                               |                      |                  N/A |\n",
      "+-------------------------------+----------------------+----------------------+\n",
      "                                                                               \n",
      "+-----------------------------------------------------------------------------+\n",
      "| Processes:                                                                  |\n",
      "|  GPU   GI   CI        PID   Type   Process name                  GPU Memory |\n",
      "|        ID   ID                                                   Usage      |\n",
      "|=============================================================================|\n",
      "+-----------------------------------------------------------------------------+\n"
     ]
    }
   ],
   "source": [
    "gpu_info = !nvidia-smi\n",
    "gpu_info = '\\n'.join(gpu_info)\n",
    "if gpu_info.find('failed') >= 0:\n",
    "    print('Select the Runtime > \"Change runtime type\" menu to enable a GPU accelerator, ')\n",
    "    print('and then re-execute this cell.')\n",
    "else:\n",
    "    print(gpu_info)"
   ]
  },
  {
   "cell_type": "markdown",
   "metadata": {
    "id": "Co5Bu8DK11PQ"
   },
   "source": [
    "# For Memory"
   ]
  },
  {
   "cell_type": "code",
   "execution_count": 49,
   "metadata": {
    "colab": {
     "base_uri": "https://localhost:8080/"
    },
    "id": "oqK7ngdr1xvW",
    "outputId": "773ca1e6-fb53-4315-df37-bb96225c0b15"
   },
   "outputs": [
    {
     "name": "stdout",
     "output_type": "stream",
     "text": [
      "Your runtime has 27.4 gigabytes of available RAM\n",
      "\n",
      "You are using a high-RAM runtime!\n"
     ]
    }
   ],
   "source": [
    "from psutil import virtual_memory\n",
    "ram_gb = virtual_memory().total / 1e9\n",
    "print('Your runtime has {:.1f} gigabytes of available RAM\\n'.format(ram_gb))\n",
    "\n",
    "if ram_gb < 20:\n",
    "    print('To enable a high-RAM runtime, select the Runtime > \"Change runtime type\"')\n",
    "    print('menu, and then select High-RAM in the Runtime shape dropdown. Then, ')\n",
    "    print('re-execute this cell.')\n",
    "else:\n",
    "    print('You are using a high-RAM runtime!')"
   ]
  },
  {
   "cell_type": "code",
   "execution_count": 50,
   "metadata": {
    "colab": {
     "base_uri": "https://localhost:8080/"
    },
    "id": "m0sHdyktNaX4",
    "outputId": "6f330742-74ce-4e02-b3a7-3ec2c90799af"
   },
   "outputs": [
    {
     "name": "stdout",
     "output_type": "stream",
     "text": [
      "Drive already mounted at /content/gdrive; to attempt to forcibly remount, call drive.mount(\"/content/gdrive\", force_remount=True).\n"
     ]
    }
   ],
   "source": [
    "from google.colab import drive\n",
    "drive.mount(\"/content/gdrive\")"
   ]
  },
  {
   "cell_type": "code",
   "execution_count": 55,
   "metadata": {
    "colab": {
     "base_uri": "https://localhost:8080/"
    },
    "id": "4rWS8sTNMCQr",
    "outputId": "1142d97e-e06c-406f-898f-71b101865c53"
   },
   "outputs": [
    {
     "name": "stdout",
     "output_type": "stream",
     "text": [
      "[nltk_data] Downloading package stopwords to /root/nltk_data...\n",
      "[nltk_data]   Package stopwords is already up-to-date!\n"
     ]
    }
   ],
   "source": [
    "import numpy as np\n",
    "import pandas as pd \n",
    "import re\n",
    "from tqdm import tqdm\n",
    "from bs4 import BeautifulSoup\n",
    "from keras.preprocessing.text import Tokenizer \n",
    "from keras.preprocessing.sequence import pad_sequences\n",
    "import nltk\n",
    "nltk.download('stopwords')\n",
    "from nltk.corpus import stopwords\n",
    "from tensorflow.keras.layers import Input, LSTM, Embedding, Dense, Concatenate, TimeDistributed\n",
    "from tensorflow.keras.models import Model\n",
    "from tensorflow.keras.callbacks import EarlyStopping\n",
    "import warnings\n",
    "pd.set_option(\"display.max_colwidth\", 200)\n",
    "warnings.filterwarnings(\"ignore\")"
   ]
  },
  {
   "cell_type": "code",
   "execution_count": 56,
   "metadata": {
    "id": "_hseZZtFNIys"
   },
   "outputs": [],
   "source": [
    "data = pd.read_csv('/content/gdrive/MyDrive/Git hub Projects/3) Text Summarization /Reviews.csv', nrows=120000)"
   ]
  },
  {
   "cell_type": "code",
   "execution_count": 57,
   "metadata": {
    "colab": {
     "base_uri": "https://localhost:8080/"
    },
    "id": "eBrGciMUQJK5",
    "outputId": "240ccc00-3d19-4077-cc7d-3b13bce250d2"
   },
   "outputs": [
    {
     "name": "stdout",
     "output_type": "stream",
     "text": [
      "<class 'pandas.core.frame.DataFrame'>\n",
      "RangeIndex: 120000 entries, 0 to 119999\n",
      "Data columns (total 10 columns):\n",
      " #   Column                  Non-Null Count   Dtype \n",
      "---  ------                  --------------   ----- \n",
      " 0   Id                      120000 non-null  int64 \n",
      " 1   ProductId               120000 non-null  object\n",
      " 2   UserId                  120000 non-null  object\n",
      " 3   ProfileName             119995 non-null  object\n",
      " 4   HelpfulnessNumerator    120000 non-null  int64 \n",
      " 5   HelpfulnessDenominator  120000 non-null  int64 \n",
      " 6   Score                   120000 non-null  int64 \n",
      " 7   Time                    120000 non-null  int64 \n",
      " 8   Summary                 119995 non-null  object\n",
      " 9   Text                    120000 non-null  object\n",
      "dtypes: int64(5), object(5)\n",
      "memory usage: 9.2+ MB\n"
     ]
    }
   ],
   "source": [
    "data.info()"
   ]
  },
  {
   "cell_type": "code",
   "execution_count": 58,
   "metadata": {
    "id": "3IiX08YEQRxq"
   },
   "outputs": [],
   "source": [
    "data.drop_duplicates(subset=['Text'], inplace= True)\n",
    "data.dropna(axis=0, inplace=True)"
   ]
  },
  {
   "cell_type": "markdown",
   "metadata": {
    "id": "cRzGhnNrVWl7"
   },
   "source": [
    "# Text Pre-Processing\n",
    "Here we will be perfoming basic data pre-processingand data cleaning which will be aking the data ready for model."
   ]
  },
  {
   "cell_type": "code",
   "execution_count": 59,
   "metadata": {
    "id": "YtfaIIKCVBbk"
   },
   "outputs": [],
   "source": [
    "# contraction mapping \n",
    "# the list will be containing all the contractions which will be used for expansions\n",
    "contraction_mapping = { \n",
    "\"ain't\": \"am not / are not / is not / has not / have not\",\n",
    "\"aren't\": \"are not / am not\",\n",
    "\"can't\": \"cannot\",\n",
    "\"can't've\": \"cannot have\",\n",
    "\"'cause\": \"because\",\n",
    "\"could've\": \"could have\",\n",
    "\"couldn't\": \"could not\",\n",
    "\"couldn't've\": \"could not have\",\n",
    "\"didn't\": \"did not\",\n",
    "\"doesn't\": \"does not\",\n",
    "\"don't\": \"do not\",\n",
    "\"hadn't\": \"had not\",\n",
    "\"hadn't've\": \"had not have\",\n",
    "\"hasn't\": \"has not\",\n",
    "\"haven't\": \"have not\",\n",
    "\"he'd\": \"he had / he would\",\n",
    "\"he'd've\": \"he would have\",\n",
    "\"he'll\": \"he shall / he will\",\n",
    "\"he'll've\": \"he shall have / he will have\",\n",
    "\"he's\": \"he has / he is\",\n",
    "\"how'd\": \"how did\",\n",
    "\"how'd'y\": \"how do you\",\n",
    "\"how'll\": \"how will\",\n",
    "\"how's\": \"how has / how is / how does\",\n",
    "\"I'd\": \"I had / I would\",\n",
    "\"I'd've\": \"I would have\",\n",
    "\"I'll\": \"I shall / I will\",\n",
    "\"I'll've\": \"I shall have / I will have\",\n",
    "\"I'm\": \"I am\",\n",
    "\"I've\": \"I have\",\n",
    "\"isn't\": \"is not\",\n",
    "\"it'd\": \"it had / it would\",\n",
    "\"it'd've\": \"it would have\",\n",
    "\"it'll\": \"it shall / it will\",\n",
    "\"it'll've\": \"it shall have / it will have\",\n",
    "\"it's\": \"it has / it is\",\n",
    "\"let's\": \"let us\",\n",
    "\"ma'am\": \"madam\",\n",
    "\"mayn't\": \"may not\",\n",
    "\"might've\": \"might have\",\n",
    "\"mightn't\": \"might not\",\n",
    "\"mightn't've\": \"might not have\",\n",
    "\"must've\": \"must have\",\n",
    "\"mustn't\": \"must not\",\n",
    "\"mustn't've\": \"must not have\",\n",
    "\"needn't\": \"need not\",\n",
    "\"needn't've\": \"need not have\",\n",
    "\"o'clock\": \"of the clock\",\n",
    "\"oughtn't\": \"ought not\",\n",
    "\"oughtn't've\": \"ought not have\",\n",
    "\"shan't\": \"shall not\",\n",
    "\"sha'n't\": \"shall not\",\n",
    "\"shan't've\": \"shall not have\",\n",
    "\"she'd\": \"she had / she would\",\n",
    "\"she'd've\": \"she would have\",\n",
    "\"she'll\": \"she shall / she will\",\n",
    "\"she'll've\": \"she shall have / she will have\",\n",
    "\"she's\": \"she has / she is\",\n",
    "\"should've\": \"should have\",\n",
    "\"shouldn't\": \"should not\",\n",
    "\"shouldn't've\": \"should not have\",\n",
    "\"so've\": \"so have\",\n",
    "\"so's\": \"so as / so is\",\n",
    "\"that'd\": \"that would / that had\",\n",
    "\"that'd've\": \"that would have\",\n",
    "\"that's\": \"that has / that is\",\n",
    "\"there'd\": \"there had / there would\",\n",
    "\"there'd've\": \"there would have\",\n",
    "\"there's\": \"there has / there is\",\n",
    "\"they'd\": \"they had / they would\",\n",
    "\"they'd've\": \"they would have\",\n",
    "\"they'll\": \"they shall / they will\",\n",
    "\"they'll've\": \"they shall have / they will have\",\n",
    "\"they're\": \"they are\",\n",
    "\"they've\": \"they have\",\n",
    "\"to've\": \"to have\",\n",
    "\"wasn't\": \"was not\",\n",
    "\"we'd\": \"we had / we would\",\n",
    "\"we'd've\": \"we would have\",\n",
    "\"we'll\": \"we will\",\n",
    "\"we'll've\": \"we will have\",\n",
    "\"we're\": \"we are\",\n",
    "\"we've\": \"we have\",\n",
    "\"weren't\": \"were not\",\n",
    "\"what'll\": \"what shall / what will\",\n",
    "\"what'll've\": \"what shall have / what will have\",\n",
    "\"what're\": \"what are\",\n",
    "\"what's\": \"what has / what is\",\n",
    "\"what've\": \"what have\",\n",
    "\"when's\": \"when has / when is\",\n",
    "\"when've\": \"when have\",\n",
    "\"where'd\": \"where did\",\n",
    "\"where's\": \"where has / where is\",\n",
    "\"where've\": \"where have\",\n",
    "\"who'll\": \"who shall / who will\",\n",
    "\"who'll've\": \"who shall have / who will have\",\n",
    "\"who's\": \"who has / who is\",\n",
    "\"who've\": \"who have\",\n",
    "\"why's\": \"why has / why is\",\n",
    "\"why've\": \"why have\",\n",
    "\"will've\": \"will have\",\n",
    "\"won't\": \"will not\",\n",
    "\"won't've\": \"will not have\",\n",
    "\"would've\": \"would have\",\n",
    "\"wouldn't\": \"would not\",\n",
    "\"wouldn't've\": \"would not have\",\n",
    "\"y'all\": \"you all\",\n",
    "\"y'all'd\": \"you all would\",\n",
    "\"y'all'd've\": \"you all would have\",\n",
    "\"y'all're\": \"you all are\",\n",
    "\"y'all've\": \"you all have\",\n",
    "\"you'd\": \"you had / you would\",\n",
    "\"you'd've\": \"you would have\",\n",
    "\"you'll\": \"you shall / you will\",\n",
    "\"you'll've\": \"you shall have / you will have\",\n",
    "\"you're\": \"you are\",\n",
    "\"you've\": \"you have\"\n",
    "}"
   ]
  },
  {
   "cell_type": "code",
   "execution_count": 60,
   "metadata": {
    "colab": {
     "base_uri": "https://localhost:8080/"
    },
    "id": "UoBtkSD2h_lh",
    "outputId": "70ba3e42-16fb-4b6b-ad47-90aea8a74a84"
   },
   "outputs": [
    {
     "data": {
      "text/plain": [
       "0    I have bought several of the Vitality canned dog food products and have found them all to be of good quality. The product looks more like a stew than a processed meat and it smells better. My Labr...\n",
       "Name: Text, dtype: object"
      ]
     },
     "execution_count": 60,
     "metadata": {
      "tags": []
     },
     "output_type": "execute_result"
    }
   ],
   "source": [
    "data['Text'][:1]"
   ]
  },
  {
   "cell_type": "code",
   "execution_count": 61,
   "metadata": {
    "id": "0a-uq9ZZWokw"
   },
   "outputs": [],
   "source": [
    "stop_words_removal = set(stopwords.words('english'))\n",
    "\n",
    "def clean_text(text,num):\n",
    "    text= text.lower()\n",
    "    text= BeautifulSoup(text, 'lxml').text\n",
    "    text= re.sub(r'\\([^)]*\\)', '', text)\n",
    "    text= re.sub('\"','',text)\n",
    "    text= ' '.join([contraction_mapping[m] if m in contraction_mapping else m for m in text.split(' ')])\n",
    "    text= re.sub(r\"'s\\b\",\"\",text)\n",
    "    text= re.sub(\"[^a-zA-Z]\", \" \",text)\n",
    "    text= re.sub('[m]{2,}', 'mm', text)\n",
    "    if (num==0):\n",
    "        words= [w for w in text.split() if not w in stop_words_removal]\n",
    "    else:\n",
    "        words=text.split()\n",
    "        long_words=[]\n",
    "        for i in words:\n",
    "            if len (i)>1:\n",
    "                long_words.append(i)\n",
    "                                \n",
    "return (\" \".join(long_words)).strip()"
   ]
  },
  {
   "cell_type": "code",
   "execution_count": 62,
   "metadata": {
    "colab": {
     "base_uri": "https://localhost:8080/"
    },
    "id": "QUqzIiZkLoci",
    "outputId": "16821141-b4a5-4c0e-a4a3-ad77b38c88d5"
   },
   "outputs": [
    {
     "name": "stderr",
     "output_type": "stream",
     "text": [
      "100%|██████████| 104162/104162 [00:29<00:00, 3554.12it/s]\n"
     ]
    }
   ],
   "source": [
    "#call the function for text \n",
    "cleaned_text= []\n",
    "for j in tqdm(data['Text'].values):\n",
    "    ex= clean_text(j,0)\n",
    "    cleaned_text.append(ex)\n",
    "\n"
   ]
  },
  {
   "cell_type": "code",
   "execution_count": 63,
   "metadata": {
    "colab": {
     "base_uri": "https://localhost:8080/"
    },
    "id": "kwqn7YTDZsWm",
    "outputId": "22fa02fc-585f-44b4-c9c9-9665f37267b6"
   },
   "outputs": [
    {
     "data": {
      "text/plain": [
       "['bought several vitality canned dog food products found good quality product looks like stew processed meat smells better labrador finicky appreciates product better',\n",
       " 'product arrived labeled jumbo salted peanuts peanuts actually small sized unsalted sure error vendor intended represent product jumbo',\n",
       " 'confection around centuries light pillowy citrus gelatin nuts case filberts cut tiny squares liberally coated powdered sugar tiny mouthful heaven chewy flavorful highly recommend yummy treat familiar story lewis lion witch wardrobe treat seduces edmund selling brother sisters witch',\n",
       " 'looking secret ingredient robitussin believe found got addition root beer extract ordered made cherry soda flavor medicinal',\n",
       " 'great taffy great price wide assortment yummy taffy delivery quick taffy lover deal']"
      ]
     },
     "execution_count": 63,
     "metadata": {
      "tags": []
     },
     "output_type": "execute_result"
    }
   ],
   "source": [
    "cleaned_text[:5]"
   ]
  },
  {
   "cell_type": "code",
   "execution_count": 64,
   "metadata": {
    "colab": {
     "base_uri": "https://localhost:8080/"
    },
    "id": "mO23omAvs_Iz",
    "outputId": "651f9f52-23ea-4984-d585-f0b27e881ddb"
   },
   "outputs": [
    {
     "name": "stderr",
     "output_type": "stream",
     "text": [
      "100%|██████████| 104162/104162 [00:19<00:00, 5295.86it/s]\n"
     ]
    }
   ],
   "source": [
    "#call function for summary \n",
    "cleaned_summary=[]\n",
    "for s in tqdm(data['Summary'].values):\n",
    "    ex= clean_text(s,1)\n",
    "    cleaned_summary.append(ex)"
   ]
  },
  {
   "cell_type": "code",
   "execution_count": 65,
   "metadata": {
    "colab": {
     "base_uri": "https://localhost:8080/"
    },
    "id": "KfuLwWektgEl",
    "outputId": "8b9fe256-0829-4e08-ed24-163578a2663f"
   },
   "outputs": [
    {
     "data": {
      "text/plain": [
       "['good quality dog food',\n",
       " 'not as advertised',\n",
       " 'delight says it all',\n",
       " 'cough medicine',\n",
       " 'great taffy',\n",
       " 'nice taffy',\n",
       " 'great just as good as the expensive brands',\n",
       " 'wonderful tasty taffy',\n",
       " 'yay barley',\n",
       " 'healthy dog food']"
      ]
     },
     "execution_count": 65,
     "metadata": {
      "tags": []
     },
     "output_type": "execute_result"
    }
   ],
   "source": [
    "cleaned_summary[:10]"
   ]
  },
  {
   "cell_type": "code",
   "execution_count": 66,
   "metadata": {
    "id": "rJOD-mm2t9bi"
   },
   "outputs": [],
   "source": [
    "data['clean_text']=cleaned_text\n",
    "data['clean_summary']=cleaned_summary"
   ]
  },
  {
   "cell_type": "code",
   "execution_count": 67,
   "metadata": {
    "colab": {
     "base_uri": "https://localhost:8080/",
     "height": 500
    },
    "id": "L3HTEurvbKsu",
    "outputId": "c8893595-2f8c-438a-a86b-df7c3b7ab077"
   },
   "outputs": [
    {
     "data": {
      "text/html": [
       "<div>\n",
       "<style scoped>\n",
       "    .dataframe tbody tr th:only-of-type {\n",
       "        vertical-align: middle;\n",
       "    }\n",
       "\n",
       "    .dataframe tbody tr th {\n",
       "        vertical-align: top;\n",
       "    }\n",
       "\n",
       "    .dataframe thead th {\n",
       "        text-align: right;\n",
       "    }\n",
       "</style>\n",
       "<table border=\"1\" class=\"dataframe\">\n",
       "  <thead>\n",
       "    <tr style=\"text-align: right;\">\n",
       "      <th></th>\n",
       "      <th>Id</th>\n",
       "      <th>ProductId</th>\n",
       "      <th>UserId</th>\n",
       "      <th>ProfileName</th>\n",
       "      <th>HelpfulnessNumerator</th>\n",
       "      <th>HelpfulnessDenominator</th>\n",
       "      <th>Score</th>\n",
       "      <th>Time</th>\n",
       "      <th>Summary</th>\n",
       "      <th>Text</th>\n",
       "      <th>clean_text</th>\n",
       "      <th>clean_summary</th>\n",
       "    </tr>\n",
       "  </thead>\n",
       "  <tbody>\n",
       "    <tr>\n",
       "      <th>0</th>\n",
       "      <td>1</td>\n",
       "      <td>B001E4KFG0</td>\n",
       "      <td>A3SGXH7AUHU8GW</td>\n",
       "      <td>delmartian</td>\n",
       "      <td>1</td>\n",
       "      <td>1</td>\n",
       "      <td>5</td>\n",
       "      <td>1303862400</td>\n",
       "      <td>Good Quality Dog Food</td>\n",
       "      <td>I have bought several of the Vitality canned dog food products and have found them all to be of good quality. The product looks more like a stew than a processed meat and it smells better. My Labr...</td>\n",
       "      <td>bought several vitality canned dog food products found good quality product looks like stew processed meat smells better labrador finicky appreciates product better</td>\n",
       "      <td>good quality dog food</td>\n",
       "    </tr>\n",
       "  </tbody>\n",
       "</table>\n",
       "</div>"
      ],
      "text/plain": [
       "   Id  ...          clean_summary\n",
       "0   1  ...  good quality dog food\n",
       "\n",
       "[1 rows x 12 columns]"
      ]
     },
     "execution_count": 67,
     "metadata": {
      "tags": []
     },
     "output_type": "execute_result"
    }
   ],
   "source": [
    "data.head(1)"
   ]
  },
  {
   "cell_type": "code",
   "execution_count": 68,
   "metadata": {
    "colab": {
     "base_uri": "https://localhost:8080/"
    },
    "id": "LZexWH7QuNti",
    "outputId": "b33d5ba9-b304-4453-ec95-8646441812e8"
   },
   "outputs": [
    {
     "data": {
      "text/plain": [
       "Index(['Id', 'ProductId', 'UserId', 'ProfileName', 'HelpfulnessNumerator',\n",
       "       'HelpfulnessDenominator', 'Score', 'Time', 'Summary', 'Text',\n",
       "       'clean_text', 'clean_summary'],\n",
       "      dtype='object')"
      ]
     },
     "execution_count": 68,
     "metadata": {
      "tags": []
     },
     "output_type": "execute_result"
    }
   ],
   "source": [
    "data.columns"
   ]
  },
  {
   "cell_type": "code",
   "execution_count": 69,
   "metadata": {
    "id": "L5mdVo2jvtMi"
   },
   "outputs": [],
   "source": [
    "data.replace('',np.nan, inplace=True)\n",
    "data.dropna(axis=0, inplace=True)"
   ]
  },
  {
   "cell_type": "code",
   "execution_count": 70,
   "metadata": {
    "colab": {
     "base_uri": "https://localhost:8080/",
     "height": 500
    },
    "id": "9QU_-ELxbWCU",
    "outputId": "d87c1847-90ac-459a-ac07-0e06bc09d9c1"
   },
   "outputs": [
    {
     "data": {
      "text/html": [
       "<div>\n",
       "<style scoped>\n",
       "    .dataframe tbody tr th:only-of-type {\n",
       "        vertical-align: middle;\n",
       "    }\n",
       "\n",
       "    .dataframe tbody tr th {\n",
       "        vertical-align: top;\n",
       "    }\n",
       "\n",
       "    .dataframe thead th {\n",
       "        text-align: right;\n",
       "    }\n",
       "</style>\n",
       "<table border=\"1\" class=\"dataframe\">\n",
       "  <thead>\n",
       "    <tr style=\"text-align: right;\">\n",
       "      <th></th>\n",
       "      <th>Id</th>\n",
       "      <th>ProductId</th>\n",
       "      <th>UserId</th>\n",
       "      <th>ProfileName</th>\n",
       "      <th>HelpfulnessNumerator</th>\n",
       "      <th>HelpfulnessDenominator</th>\n",
       "      <th>Score</th>\n",
       "      <th>Time</th>\n",
       "      <th>Summary</th>\n",
       "      <th>Text</th>\n",
       "      <th>clean_text</th>\n",
       "      <th>clean_summary</th>\n",
       "    </tr>\n",
       "  </thead>\n",
       "  <tbody>\n",
       "    <tr>\n",
       "      <th>0</th>\n",
       "      <td>1</td>\n",
       "      <td>B001E4KFG0</td>\n",
       "      <td>A3SGXH7AUHU8GW</td>\n",
       "      <td>delmartian</td>\n",
       "      <td>1</td>\n",
       "      <td>1</td>\n",
       "      <td>5</td>\n",
       "      <td>1303862400</td>\n",
       "      <td>Good Quality Dog Food</td>\n",
       "      <td>I have bought several of the Vitality canned dog food products and have found them all to be of good quality. The product looks more like a stew than a processed meat and it smells better. My Labr...</td>\n",
       "      <td>bought several vitality canned dog food products found good quality product looks like stew processed meat smells better labrador finicky appreciates product better</td>\n",
       "      <td>good quality dog food</td>\n",
       "    </tr>\n",
       "  </tbody>\n",
       "</table>\n",
       "</div>"
      ],
      "text/plain": [
       "   Id  ...          clean_summary\n",
       "0   1  ...  good quality dog food\n",
       "\n",
       "[1 rows x 12 columns]"
      ]
     },
     "execution_count": 70,
     "metadata": {
      "tags": []
     },
     "output_type": "execute_result"
    }
   ],
   "source": [
    "data.head(1)"
   ]
  },
  {
   "cell_type": "markdown",
   "metadata": {
    "id": "Mz_B6BiNxV0X"
   },
   "source": [
    "# Understanding the Text Distribution Of Sequence"
   ]
  },
  {
   "cell_type": "code",
   "execution_count": 71,
   "metadata": {
    "colab": {
     "base_uri": "https://localhost:8080/",
     "height": 281
    },
    "id": "vVq9beREv6ZC",
    "outputId": "b937d2b6-3905-4fd9-fa22-6d2f8a85aaa6"
   },
   "outputs": [
    {
     "data": {
      "image/png": "[encoded data removed]",
      "text/plain": [
       "<Figure size 432x288 with 2 Axes>"
      ]
     },
     "metadata": {
      "needs_background": "light",
      "tags": []
     },
     "output_type": "display_data"
    }
   ],
   "source": [
    "import matplotlib.pyplot as plt\n",
    "\n",
    "cleaned_text_count= []\n",
    "cleaned_summary_count=[]\n",
    "\n",
    "for i in data['clean_text']:\n",
    "    cleaned_text_count.append(len(i.split()))\n",
    "\n",
    "for i in data['clean_summary']:\n",
    "    cleaned_summary_count.append(len(i.split()))\n",
    "\n",
    "df= pd.DataFrame({'text':cleaned_text_count, 'summary':cleaned_summary_count})\n",
    "\n",
    "df.hist(bins=30)\n",
    "plt.show()"
   ]
  },
  {
   "cell_type": "markdown",
   "metadata": {
    "id": "IdKfNRRnhaqK"
   },
   "source": [
    "This plot tells us about the maximum length distribution for summary and text.\n",
    "\n",
    "Here we can conclude that the maximum length distribution for summary lies between 0 to 9. i.e most of the max length are between the scale of 0 to 9 \n",
    "\n",
    "The similar way when we see the distribution for the text the max length lies between 0-30.This is a approx we are considering here."
   ]
  },
  {
   "cell_type": "code",
   "execution_count": 72,
   "metadata": {
    "colab": {
     "base_uri": "https://localhost:8080/"
    },
    "id": "b7ZyplJ1zJYs",
    "outputId": "3431bbd6-e244-4c20-85ba-04d2f475da7e"
   },
   "outputs": [
    {
     "name": "stdout",
     "output_type": "stream",
     "text": [
      "0.9627957030574399\n"
     ]
    }
   ],
   "source": [
    "count_summary=0\n",
    "for i in data['clean_summary']:\n",
    "    if(len(i.split())<=9):\n",
    "        count_summary= count_summary+1\n",
    "        \n",
    "print(count_summary/len(data['clean_summary']))"
   ]
  },
  {
   "cell_type": "code",
   "execution_count": 73,
   "metadata": {
    "colab": {
     "base_uri": "https://localhost:8080/"
    },
    "id": "5asQrbxDWzDL",
    "outputId": "775b1540-5ad4-45ef-add6-bf1d49db3794"
   },
   "outputs": [
    {
     "name": "stdout",
     "output_type": "stream",
     "text": [
      "0.5535388281415147\n"
     ]
    }
   ],
   "source": [
    "count_txt=0\n",
    "for i in data['clean_text']:\n",
    "    if(len(i.split())<=30):\n",
    "        count_txt= count_txt+1\n",
    "        \n",
    "print(count_txt/len(data['clean_text']))"
   ]
  },
  {
   "cell_type": "code",
   "execution_count": 74,
   "metadata": {
    "id": "SP9CysJLimVJ"
   },
   "outputs": [],
   "source": [
    "#fixing the maximum length to \n",
    "#max text length = 60\n",
    "#max summary length = 9\n",
    "max_text_length= 30\n",
    "max_summary_length= 9"
   ]
  },
  {
   "cell_type": "code",
   "execution_count": 75,
   "metadata": {
    "id": "OqlfrIT-mWJC"
   },
   "outputs": [],
   "source": [
    "cleaned_text= np.array(data['clean_text'])\n",
    "cleaned_summary= np.array(data['clean_summary'])\n",
    "\n",
    "short_text= []\n",
    "short_summary= []\n",
    "\n",
    "for i in range(len(cleaned_text)):\n",
    "    if(len(cleaned_summary[i].split())<=max_summary_length and len(cleaned_text[i].split())<=max_text_length):\n",
    "        short_text.append(cleaned_text[i])\n",
    "        short_summary.append(cleaned_summary[i])\n",
    "\n",
    "df = pd.DataFrame({'text':short_text, 'summary':short_summary})"
   ]
  },
  {
   "cell_type": "code",
   "execution_count": 76,
   "metadata": {
    "colab": {
     "base_uri": "https://localhost:8080/",
     "height": 241
    },
    "id": "yoe2uuBY2i90",
    "outputId": "d2367faf-7134-4cb1-f278-9954c6fc59ba"
   },
   "outputs": [
    {
     "data": {
      "text/html": [
       "<div>\n",
       "<style scoped>\n",
       "    .dataframe tbody tr th:only-of-type {\n",
       "        vertical-align: middle;\n",
       "    }\n",
       "\n",
       "    .dataframe tbody tr th {\n",
       "        vertical-align: top;\n",
       "    }\n",
       "\n",
       "    .dataframe thead th {\n",
       "        text-align: right;\n",
       "    }\n",
       "</style>\n",
       "<table border=\"1\" class=\"dataframe\">\n",
       "  <thead>\n",
       "    <tr style=\"text-align: right;\">\n",
       "      <th></th>\n",
       "      <th>text</th>\n",
       "      <th>summary</th>\n",
       "    </tr>\n",
       "  </thead>\n",
       "  <tbody>\n",
       "    <tr>\n",
       "      <th>0</th>\n",
       "      <td>bought several vitality canned dog food products found good quality product looks like stew processed meat smells better labrador finicky appreciates product better</td>\n",
       "      <td>good quality dog food</td>\n",
       "    </tr>\n",
       "    <tr>\n",
       "      <th>1</th>\n",
       "      <td>product arrived labeled jumbo salted peanuts peanuts actually small sized unsalted sure error vendor intended represent product jumbo</td>\n",
       "      <td>not as advertised</td>\n",
       "    </tr>\n",
       "    <tr>\n",
       "      <th>2</th>\n",
       "      <td>looking secret ingredient robitussin believe found got addition root beer extract ordered made cherry soda flavor medicinal</td>\n",
       "      <td>cough medicine</td>\n",
       "    </tr>\n",
       "    <tr>\n",
       "      <th>3</th>\n",
       "      <td>great taffy great price wide assortment yummy taffy delivery quick taffy lover deal</td>\n",
       "      <td>great taffy</td>\n",
       "    </tr>\n",
       "    <tr>\n",
       "      <th>4</th>\n",
       "      <td>saltwater taffy great flavors soft chewy candy individually wrapped well none candies stuck together happen expensive version fralinger would highly recommend candy served beach themed party every...</td>\n",
       "      <td>great just as good as the expensive brands</td>\n",
       "    </tr>\n",
       "  </tbody>\n",
       "</table>\n",
       "</div>"
      ],
      "text/plain": [
       "                                                                                                                                                                                                      text                                     summary\n",
       "0                                     bought several vitality canned dog food products found good quality product looks like stew processed meat smells better labrador finicky appreciates product better                       good quality dog food\n",
       "1                                                                    product arrived labeled jumbo salted peanuts peanuts actually small sized unsalted sure error vendor intended represent product jumbo                           not as advertised\n",
       "2                                                                              looking secret ingredient robitussin believe found got addition root beer extract ordered made cherry soda flavor medicinal                              cough medicine\n",
       "3                                                                                                                      great taffy great price wide assortment yummy taffy delivery quick taffy lover deal                                 great taffy\n",
       "4  saltwater taffy great flavors soft chewy candy individually wrapped well none candies stuck together happen expensive version fralinger would highly recommend candy served beach themed party every...  great just as good as the expensive brands"
      ]
     },
     "execution_count": 76,
     "metadata": {
      "tags": []
     },
     "output_type": "execute_result"
    }
   ],
   "source": [
    "df.head(5)"
   ]
  },
  {
   "cell_type": "code",
   "execution_count": 77,
   "metadata": {
    "id": "5zgDUjM92rqg"
   },
   "outputs": [],
   "source": [
    "df['summary']= df['summary'].apply(lambda x: 'ssstok '+ x + ' eeetok')"
   ]
  },
  {
   "cell_type": "code",
   "execution_count": 78,
   "metadata": {
    "colab": {
     "base_uri": "https://localhost:8080/",
     "height": 241
    },
    "id": "BAEzcgqZ3_9f",
    "outputId": "0e3a6b4b-aa14-4f39-e729-ded8e17c6858"
   },
   "outputs": [
    {
     "data": {
      "text/html": [
       "<div>\n",
       "<style scoped>\n",
       "    .dataframe tbody tr th:only-of-type {\n",
       "        vertical-align: middle;\n",
       "    }\n",
       "\n",
       "    .dataframe tbody tr th {\n",
       "        vertical-align: top;\n",
       "    }\n",
       "\n",
       "    .dataframe thead th {\n",
       "        text-align: right;\n",
       "    }\n",
       "</style>\n",
       "<table border=\"1\" class=\"dataframe\">\n",
       "  <thead>\n",
       "    <tr style=\"text-align: right;\">\n",
       "      <th></th>\n",
       "      <th>text</th>\n",
       "      <th>summary</th>\n",
       "    </tr>\n",
       "  </thead>\n",
       "  <tbody>\n",
       "    <tr>\n",
       "      <th>0</th>\n",
       "      <td>bought several vitality canned dog food products found good quality product looks like stew processed meat smells better labrador finicky appreciates product better</td>\n",
       "      <td>ssstok good quality dog food eeetok</td>\n",
       "    </tr>\n",
       "    <tr>\n",
       "      <th>1</th>\n",
       "      <td>product arrived labeled jumbo salted peanuts peanuts actually small sized unsalted sure error vendor intended represent product jumbo</td>\n",
       "      <td>ssstok not as advertised eeetok</td>\n",
       "    </tr>\n",
       "    <tr>\n",
       "      <th>2</th>\n",
       "      <td>looking secret ingredient robitussin believe found got addition root beer extract ordered made cherry soda flavor medicinal</td>\n",
       "      <td>ssstok cough medicine eeetok</td>\n",
       "    </tr>\n",
       "    <tr>\n",
       "      <th>3</th>\n",
       "      <td>great taffy great price wide assortment yummy taffy delivery quick taffy lover deal</td>\n",
       "      <td>ssstok great taffy eeetok</td>\n",
       "    </tr>\n",
       "    <tr>\n",
       "      <th>4</th>\n",
       "      <td>saltwater taffy great flavors soft chewy candy individually wrapped well none candies stuck together happen expensive version fralinger would highly recommend candy served beach themed party every...</td>\n",
       "      <td>ssstok great just as good as the expensive brands eeetok</td>\n",
       "    </tr>\n",
       "  </tbody>\n",
       "</table>\n",
       "</div>"
      ],
      "text/plain": [
       "                                                                                                                                                                                                      text                                                   summary\n",
       "0                                     bought several vitality canned dog food products found good quality product looks like stew processed meat smells better labrador finicky appreciates product better                       ssstok good quality dog food eeetok\n",
       "1                                                                    product arrived labeled jumbo salted peanuts peanuts actually small sized unsalted sure error vendor intended represent product jumbo                           ssstok not as advertised eeetok\n",
       "2                                                                              looking secret ingredient robitussin believe found got addition root beer extract ordered made cherry soda flavor medicinal                              ssstok cough medicine eeetok\n",
       "3                                                                                                                      great taffy great price wide assortment yummy taffy delivery quick taffy lover deal                                 ssstok great taffy eeetok\n",
       "4  saltwater taffy great flavors soft chewy candy individually wrapped well none candies stuck together happen expensive version fralinger would highly recommend candy served beach themed party every...  ssstok great just as good as the expensive brands eeetok"
      ]
     },
     "execution_count": 78,
     "metadata": {
      "tags": []
     },
     "output_type": "execute_result"
    }
   ],
   "source": [
    "df.head(5)"
   ]
  },
  {
   "cell_type": "markdown",
   "metadata": {
    "id": "jdFu3iBq4Pfu"
   },
   "source": [
    "Splitting Of the Dataset into Train and Test"
   ]
  },
  {
   "cell_type": "code",
   "execution_count": 79,
   "metadata": {
    "id": "Ylg-snPG4CV3"
   },
   "outputs": [],
   "source": [
    "from sklearn.model_selection import train_test_split\n",
    "x_train,x_test,y_train,y_test= train_test_split(np.array(df['text']), np.array(df['summary']), test_size=0.2, random_state=0, shuffle=True)"
   ]
  },
  {
   "cell_type": "code",
   "execution_count": 80,
   "metadata": {
    "colab": {
     "base_uri": "https://localhost:8080/"
    },
    "id": "ZgOYqgfQ4464",
    "outputId": "d7ad741c-d916-4d5c-8ba2-cd51b748dd4d"
   },
   "outputs": [
    {
     "name": "stdout",
     "output_type": "stream",
     "text": [
      "training size (45284,) (45284,)\n"
     ]
    }
   ],
   "source": [
    "print('training size', x_train.shape,y_train.shape)"
   ]
  },
  {
   "cell_type": "code",
   "execution_count": 81,
   "metadata": {
    "colab": {
     "base_uri": "https://localhost:8080/"
    },
    "id": "BecfsTI85F9E",
    "outputId": "33392042-a7de-49ae-de30-06cc92b4d5de"
   },
   "outputs": [
    {
     "name": "stdout",
     "output_type": "stream",
     "text": [
      "test size (11321,) (11321,)\n"
     ]
    }
   ],
   "source": [
    "print('test size',x_test.shape, y_test.shape)"
   ]
  },
  {
   "cell_type": "markdown",
   "metadata": {
    "id": "wOZdG6T77Bpt"
   },
   "source": [
    "# Tokenization\n",
    "Tokenization is important as it builds a vocabulary and converts it into sequence of integers"
   ]
  },
  {
   "cell_type": "markdown",
   "metadata": {
    "id": "_Pbx0R_lS5q9"
   },
   "source": [
    "# Text Tokenizer"
   ]
  },
  {
   "cell_type": "code",
   "execution_count": 82,
   "metadata": {
    "id": "f517K5I15XvH"
   },
   "outputs": [],
   "source": [
    "from keras.preprocessing.text import Tokenizer\n",
    "from keras.preprocessing.sequence import pad_sequences\n",
    "\n",
    "#preparing a tokenizer for review data\n",
    "x_token= Tokenizer()\n",
    "x_token.fit_on_texts((x_train))\n"
   ]
  },
  {
   "cell_type": "markdown",
   "metadata": {
    "id": "8WWQlkK1_kZ2"
   },
   "source": [
    "# Finding rare words and its frequency.\n",
    "\n",
    "This can be found by considering the occurence frequence"
   ]
  },
  {
   "cell_type": "code",
   "execution_count": 83,
   "metadata": {
    "colab": {
     "base_uri": "https://localhost:8080/"
    },
    "id": "3S8dqB81_hvJ",
    "outputId": "368f7a14-4c04-4f56-e077-22fcf5657147"
   },
   "outputs": [
    {
     "name": "stdout",
     "output_type": "stream",
     "text": [
      "the percent of rare words are 66.30081929200804 %\n",
      "the total coverage of rare words are 2.8671835981787095 %\n"
     ]
    }
   ],
   "source": [
    "threshold=4\n",
    "\n",
    "count=0 # rare word count \n",
    "total_count=0 #gives the size of the vocabulary \n",
    "freq=0 # count of rare word frequency\n",
    "total_freq=0 #frequency of the word in the vocabulary\n",
    "\n",
    "\n",
    "for key,value in x_token.word_counts.items():\n",
    "    total_count= total_count+1\n",
    "    total_freq= total_freq+value\n",
    "    if (value<threshold):\n",
    "        count= count+1\n",
    "        freq=freq+value\n",
    "\n",
    "print(\"the percent of rare words are\", (count/total_count)*100, \"%\")\n",
    "print(\"the total coverage of rare words are\", (freq/total_freq)*100, \"%\")"
   ]
  },
  {
   "cell_type": "code",
   "execution_count": 84,
   "metadata": {
    "colab": {
     "base_uri": "https://localhost:8080/"
    },
    "id": "R7G60V7yOfz4",
    "outputId": "152643ce-125a-4d2b-a9c1-86c73d667f91"
   },
   "outputs": [
    {
     "data": {
      "text/plain": [
       "array(['ordered pb plain chocolate peanut butter variety vastly pleased mixed according directions eaten crackers mixed raisins sunflower seeds favorite use however refrigerator porridge recipe enjoy',\n",
       "       'totally agree swiss miss suggestion maybe write swiss miss come upwith cup',\n",
       "       'notion cut tiny calorie servings bit silly brownies wonderful fat free heaven willing mail order beauties nonfat treat try hot frozen cool whip top send diet taste overdrive',\n",
       "       ...,\n",
       "       'oil amazing really wakes salad great along side high quality balsamic dip bread',\n",
       "       'looking real punch gut coffee one get however want nice cup coffee weak strong one good bet',\n",
       "       'strong pure need little bit get great flavor helps digestion smell strong'],\n",
       "      dtype=object)"
      ]
     },
     "execution_count": 84,
     "metadata": {
      "tags": []
     },
     "output_type": "execute_result"
    }
   ],
   "source": [
    "x_train"
   ]
  },
  {
   "cell_type": "code",
   "execution_count": 85,
   "metadata": {
    "id": "yV6e_ADrBVnU"
   },
   "outputs": [],
   "source": [
    "x_token= Tokenizer(num_words= total_count-count) #tokenizer is applied to the top most common words \n",
    "x_token.fit_on_texts(list(x_train))\n",
    "\n",
    "#converting text sequence to integer sequence \n",
    "x_train_sq= x_token.texts_to_sequences(x_train)\n",
    "x_test_sq= x_token.texts_to_sequences(x_test)\n",
    "\n",
    "#padding zero upto maximum length\n",
    "x_train= pad_sequences(x_train_sq, maxlen=max_text_length,padding='post')\n",
    "x_test= pad_sequences(x_test_sq, maxlen=max_text_length,padding='post')\n",
    "\n",
    "#size of vocabulary \n",
    "x_vocab= x_token.num_words + 1"
   ]
  },
  {
   "cell_type": "code",
   "execution_count": 86,
   "metadata": {
    "colab": {
     "base_uri": "https://localhost:8080/"
    },
    "id": "NPthFJJlHckg",
    "outputId": "b9f8a104-b523-436c-a093-d6a10d468803"
   },
   "outputs": [
    {
     "data": {
      "text/plain": [
       "8721"
      ]
     },
     "execution_count": 86,
     "metadata": {
      "tags": []
     },
     "output_type": "execute_result"
    }
   ],
   "source": [
    "x_vocab"
   ]
  },
  {
   "cell_type": "markdown",
   "metadata": {
    "id": "SiuOWzWpSusG"
   },
   "source": [
    "# Summary Tokenizer"
   ]
  },
  {
   "cell_type": "code",
   "execution_count": 87,
   "metadata": {
    "id": "Kf4Ks126RotW"
   },
   "outputs": [],
   "source": [
    "y_token= Tokenizer()\n",
    "y_token.fit_on_texts(list(y_train))"
   ]
  },
  {
   "cell_type": "markdown",
   "metadata": {
    "id": "ND-nd4hBTiGU"
   },
   "source": [
    "# Finding rare words and its frequency.\n",
    "\n",
    "This can be found by considering the occurence frequence"
   ]
  },
  {
   "cell_type": "code",
   "execution_count": 88,
   "metadata": {
    "colab": {
     "base_uri": "https://localhost:8080/"
    },
    "id": "ZiMCkFMgTZHR",
    "outputId": "8ea756c1-0c1f-4b58-d994-990f47deb221"
   },
   "outputs": [
    {
     "name": "stdout",
     "output_type": "stream",
     "text": [
      "The percentage of rare words in vocabulary 78.17306686198597 %\n",
      "The percentage of rare words frequency 5.255607991517848 %\n"
     ]
    }
   ],
   "source": [
    "#here we are keeping the threshold at 6 \n",
    "thres=6\n",
    "\n",
    "total_count=0\n",
    "count=0\n",
    "total_freq=0\n",
    "freq=0\n",
    "\n",
    "\n",
    "for key,value in y_token.word_counts.items():\n",
    "    total_count=total_count+1\n",
    "    total_freq=total_freq+value\n",
    "    if(value<thres):\n",
    "        count= count+1\n",
    "        freq= freq+value\n",
    "\n",
    "print(\"The percentage of rare words in vocabulary\", (count/total_count)*100,\"%\")\n",
    "print(\"The percentage of rare words frequency\", (freq/total_freq)*100,\"%\")"
   ]
  },
  {
   "cell_type": "code",
   "execution_count": 90,
   "metadata": {
    "id": "C4-qnsKcVLtl"
   },
   "outputs": [],
   "source": [
    "y_token= Tokenizer(num_words=total_count-count)\n",
    "y_token.fit_on_texts(list(y_train))\n",
    "\n",
    "y_train_sq= y_token.texts_to_sequences(y_train)\n",
    "y_test_sq= y_token.texts_to_sequences(y_test)\n",
    "\n",
    "y_train= pad_sequences(y_train_sq, maxlen=max_summary_length, padding='post')\n",
    "y_test= pad_sequences(y_test_sq, maxlen=max_summary_length, padding='post')\n",
    "\n",
    "y_vocab= y_token.num_words+1"
   ]
  },
  {
   "cell_type": "code",
   "execution_count": 91,
   "metadata": {
    "colab": {
     "base_uri": "https://localhost:8080/"
    },
    "id": "zluNK0yhWgRq",
    "outputId": "190fc378-1dba-415c-f731-2364adfcc979"
   },
   "outputs": [
    {
     "data": {
      "text/plain": [
       "2087"
      ]
     },
     "execution_count": 91,
     "metadata": {
      "tags": []
     },
     "output_type": "execute_result"
    }
   ],
   "source": [
    "y_vocab"
   ]
  },
  {
   "cell_type": "code",
   "execution_count": 92,
   "metadata": {
    "colab": {
     "base_uri": "https://localhost:8080/"
    },
    "id": "GYotPC0OWnzx",
    "outputId": "d87e0570-f61f-462b-c40d-4a53abd386d1"
   },
   "outputs": [
    {
     "data": {
      "text/plain": [
       "(45284, 45284)"
      ]
     },
     "execution_count": 92,
     "metadata": {
      "tags": []
     },
     "output_type": "execute_result"
    }
   ],
   "source": [
    "y_token.word_counts['ssstok'], len(y_train)"
   ]
  },
  {
   "cell_type": "markdown",
   "metadata": {
    "id": "dnLlwG02YXQ_"
   },
   "source": [
    "Now we willbe deleting the rows which have only start and end tokens"
   ]
  },
  {
   "cell_type": "code",
   "execution_count": 93,
   "metadata": {
    "id": "-6uROIAEYd36"
   },
   "outputs": [],
   "source": [
    "index=[]\n",
    "\n",
    "for i in range(len(y_train)):\n",
    "    con=0\n",
    "    for j in y_train[i]:\n",
    "        if j!=0:\n",
    "            con= con+1\n",
    "            if (con==2):\n",
    "                index.append(i)\n",
    "\n",
    "y_train= np.delete(y_train, index, axis=0)\n",
    "x_train= np.delete(x_train, index, axis=0)"
   ]
  },
  {
   "cell_type": "code",
   "execution_count": 94,
   "metadata": {
    "id": "zWLpKwSDE2Aq"
   },
   "outputs": [],
   "source": [
    "index= []\n",
    "\n",
    "for i in range(len(y_test)):\n",
    "    con=0\n",
    "    for j in y_test[i]:\n",
    "        if j!=0:\n",
    "            con= con+1\n",
    "            if (con==0):\n",
    "                index.append(i)\n",
    "\n",
    "y_test=np.delete(y_test, index, axis=0)\n",
    "x_test=np.delete(x_test, index, axis=0)"
   ]
  },
  {
   "cell_type": "markdown",
   "metadata": {
    "id": "9QT3uitxNT2n"
   },
   "source": [
    "# Model Building "
   ]
  },
  {
   "cell_type": "code",
   "execution_count": 95,
   "metadata": {
    "colab": {
     "base_uri": "https://localhost:8080/"
    },
    "id": "fHquShSAKX0L",
    "outputId": "82aad2c3-2951-410c-85b7-1e317bf4a092"
   },
   "outputs": [
    {
     "name": "stdout",
     "output_type": "stream",
     "text": [
      "WARNING:tensorflow:Layer lstm will not use cuDNN kernel since it doesn't meet the cuDNN kernel criteria. It will use generic GPU kernel as fallback when running on GPU\n",
      "WARNING:tensorflow:Layer lstm_1 will not use cuDNN kernel since it doesn't meet the cuDNN kernel criteria. It will use generic GPU kernel as fallback when running on GPU\n",
      "WARNING:tensorflow:Layer lstm_2 will not use cuDNN kernel since it doesn't meet the cuDNN kernel criteria. It will use generic GPU kernel as fallback when running on GPU\n",
      "WARNING:tensorflow:Layer lstm_3 will not use cuDNN kernel since it doesn't meet the cuDNN kernel criteria. It will use generic GPU kernel as fallback when running on GPU\n",
      "Model: \"model\"\n",
      "__________________________________________________________________________________________________\n",
      "Layer (type)                    Output Shape         Param #     Connected to                     \n",
      "==================================================================================================\n",
      "input_1 (InputLayer)            [(None, 30)]         0                                            \n",
      "__________________________________________________________________________________________________\n",
      "embedding (Embedding)           (None, 30, 100)      872100      input_1[0][0]                    \n",
      "__________________________________________________________________________________________________\n",
      "lstm (LSTM)                     [(None, 30, 300), (N 481200      embedding[0][0]                  \n",
      "__________________________________________________________________________________________________\n",
      "input_2 (InputLayer)            [(None, None)]       0                                            \n",
      "__________________________________________________________________________________________________\n",
      "lstm_1 (LSTM)                   [(None, 30, 300), (N 721200      lstm[0][0]                       \n",
      "__________________________________________________________________________________________________\n",
      "embedding_1 (Embedding)         (None, None, 100)    208700      input_2[0][0]                    \n",
      "__________________________________________________________________________________________________\n",
      "lstm_2 (LSTM)                   [(None, 30, 300), (N 721200      lstm_1[0][0]                     \n",
      "__________________________________________________________________________________________________\n",
      "lstm_3 (LSTM)                   [(None, None, 300),  481200      embedding_1[0][0]                \n",
      "                                                                 lstm_2[0][1]                     \n",
      "                                                                 lstm_2[0][2]                     \n",
      "__________________________________________________________________________________________________\n",
      "time_distributed (TimeDistribut (None, None, 2087)   628187      lstm_3[0][0]                     \n",
      "==================================================================================================\n",
      "Total params: 4,113,787\n",
      "Trainable params: 4,113,787\n",
      "Non-trainable params: 0\n",
      "__________________________________________________________________________________________________\n"
     ]
    }
   ],
   "source": [
    "from keras import backend as k\n",
    "k.clear_session()\n",
    "\n",
    "latent_dim= 300\n",
    "embedding_dim= 100\n",
    "\n",
    "#encoder\n",
    "encoder_inputs= Input(shape=(max_text_length,))\n",
    "\n",
    "#embedding_layer\n",
    "en_em_ly= Embedding(x_vocab, embedding_dim, trainable=True)(encoder_inputs)\n",
    "\n",
    "#encoder lstm-1\n",
    "encoder_lstm_1= LSTM(latent_dim, return_sequences=True, return_state=True, dropout=0.4, recurrent_dropout=0.4)\n",
    "encoder_output1, state_h1, state_c1=encoder_lstm_1(en_em_ly)\n",
    "\n",
    "#encoder lstm-2\n",
    "encoder_lstm_2= LSTM(latent_dim,return_sequences=True, return_state=True, dropout=0.4, recurrent_dropout=0.4)\n",
    "encoder_output2,state_h2,state_c2= encoder_lstm_2(encoder_output1)\n",
    "\n",
    "#encoder lstm-3\n",
    "encoder_lstm_3= LSTM(latent_dim,return_sequences=True, return_state=True, dropout=0.4, recurrent_dropout=0.4)\n",
    "encoder_output3, state_h, state_c= encoder_lstm_3(encoder_output2)\n",
    "\n",
    "#decoder \n",
    "decoder_inputs= Input(shape=(None,))\n",
    "\n",
    "#decoder embedding layer\n",
    "dec_em_ly= Embedding(y_vocab, embedding_dim, trainable=True)\n",
    "dec_emb= dec_em_ly(decoder_inputs)\n",
    "\n",
    "decoder_lstm= LSTM(latent_dim, return_sequences=True, return_state=True, dropout=0.4, recurrent_dropout=0.2)\n",
    "decoder_outputs,decoder_fwd_state, decoder_back_state= decoder_lstm(dec_emb, initial_state=[state_h, state_c])\n",
    "\n",
    "decoder_dense= TimeDistributed(Dense(y_vocab, activation='softmax'))\n",
    "decoder_outputs=decoder_dense(decoder_outputs)\n",
    "\n",
    "model= Model([encoder_inputs, decoder_inputs], decoder_outputs)\n",
    "\n",
    "model.summary()\n"
   ]
  },
  {
   "cell_type": "code",
   "execution_count": 96,
   "metadata": {
    "id": "c_NLn1lNwblm"
   },
   "outputs": [],
   "source": [
    "model.compile(optimizer='rmsprop', loss='sparse_categorical_crossentropy')"
   ]
  },
  {
   "cell_type": "code",
   "execution_count": 97,
   "metadata": {
    "id": "dF4XFlAf9Ho-"
   },
   "outputs": [],
   "source": [
    "es= EarlyStopping(monitor='val_loss', mode='min', verbose=1, patience=2)"
   ]
  },
  {
   "cell_type": "code",
   "execution_count": 98,
   "metadata": {
    "colab": {
     "base_uri": "https://localhost:8080/"
    },
    "id": "ifTdQSLF9q16",
    "outputId": "d0a324dd-47b0-4d38-c363-468e7a9d86a0"
   },
   "outputs": [
    {
     "name": "stdout",
     "output_type": "stream",
     "text": [
      "Epoch 1/50\n",
      "345/345 [==============================] - 136s 370ms/step - loss: 2.9432 - val_loss: 2.3215\n",
      "Epoch 2/50\n",
      "345/345 [==============================] - 127s 368ms/step - loss: 2.3277 - val_loss: 2.1995\n",
      "Epoch 3/50\n",
      "345/345 [==============================] - 126s 366ms/step - loss: 2.1862 - val_loss: 2.0947\n",
      "Epoch 4/50\n",
      "345/345 [==============================] - 128s 371ms/step - loss: 2.0857 - val_loss: 2.0309\n",
      "Epoch 5/50\n",
      "345/345 [==============================] - 128s 371ms/step - loss: 2.0201 - val_loss: 1.9833\n",
      "Epoch 6/50\n",
      "345/345 [==============================] - 128s 370ms/step - loss: 1.9621 - val_loss: 1.9531\n",
      "Epoch 7/50\n",
      "345/345 [==============================] - 126s 364ms/step - loss: 1.9145 - val_loss: 1.9287\n",
      "Epoch 8/50\n",
      "345/345 [==============================] - 126s 365ms/step - loss: 1.8681 - val_loss: 1.9090\n",
      "Epoch 9/50\n",
      "345/345 [==============================] - 126s 365ms/step - loss: 1.8406 - val_loss: 1.8913\n",
      "Epoch 10/50\n",
      "345/345 [==============================] - 124s 361ms/step - loss: 1.8099 - val_loss: 1.8806\n",
      "Epoch 11/50\n",
      "345/345 [==============================] - 124s 361ms/step - loss: 1.7761 - val_loss: 1.8710\n",
      "Epoch 12/50\n",
      "345/345 [==============================] - 125s 363ms/step - loss: 1.7634 - val_loss: 1.8619\n",
      "Epoch 13/50\n",
      "345/345 [==============================] - 126s 365ms/step - loss: 1.7321 - val_loss: 1.8557\n",
      "Epoch 14/50\n",
      "345/345 [==============================] - 125s 363ms/step - loss: 1.7034 - val_loss: 1.8503\n",
      "Epoch 15/50\n",
      "345/345 [==============================] - 124s 361ms/step - loss: 1.6822 - val_loss: 1.8500\n",
      "Epoch 16/50\n",
      "345/345 [==============================] - 126s 365ms/step - loss: 1.6695 - val_loss: 1.8473\n",
      "Epoch 17/50\n",
      "345/345 [==============================] - 125s 363ms/step - loss: 1.6414 - val_loss: 1.8484\n",
      "Epoch 18/50\n",
      "345/345 [==============================] - 125s 363ms/step - loss: 1.6165 - val_loss: 1.8452\n",
      "Epoch 19/50\n",
      "345/345 [==============================] - 125s 363ms/step - loss: 1.6006 - val_loss: 1.8521\n",
      "Epoch 20/50\n",
      "345/345 [==============================] - 125s 363ms/step - loss: 1.5834 - val_loss: 1.8541\n",
      "Epoch 00020: early stopping\n"
     ]
    }
   ],
   "source": [
    "history= model.fit([x_train,y_train[:,:-1]], y_train.reshape(y_train.shape[0],y_train.shape[1], 1)[:,1:], epochs=50, callbacks=[es], batch_size=128,\n",
    "                   validation_data=([x_test,y_test[:,:-1]], y_test.reshape(y_test.shape[0],y_test.shape[1], 1)[:,1:]))"
   ]
  },
  {
   "cell_type": "markdown",
   "metadata": {
    "id": "7nwi8kFidcdg"
   },
   "source": [
    "# Plotting the Results "
   ]
  },
  {
   "cell_type": "code",
   "execution_count": 99,
   "metadata": {
    "colab": {
     "base_uri": "https://localhost:8080/",
     "height": 265
    },
    "id": "BZ1BBy6zsmOR",
    "outputId": "64bf1875-657b-46eb-fd8e-518ddca4bb9b"
   },
   "outputs": [
    {
     "data": {
      "image/png": "[encoded data removed]",
      "text/plain": [
       "<Figure size 432x288 with 1 Axes>"
      ]
     },
     "metadata": {
      "needs_background": "light",
      "tags": []
     },
     "output_type": "display_data"
    }
   ],
   "source": [
    "from matplotlib import pyplot\n",
    "pyplot.plot(history.history['loss'], label='train')\n",
    "pyplot.plot(history.history['val_loss'], label='test')\n",
    "pyplot.legend()\n",
    "pyplot.show()"
   ]
  },
  {
   "cell_type": "code",
   "execution_count": 100,
   "metadata": {
    "id": "UDaI6cBBu4Rl"
   },
   "outputs": [],
   "source": [
    "reverse_target_word_index= y_token.index_word\n",
    "reverse_source_word_index= x_token.index_word\n",
    "target_word_index= y_token.word_index"
   ]
  },
  {
   "cell_type": "markdown",
   "metadata": {
    "id": "yF267RRz5su2"
   },
   "source": [
    "## Inference"
   ]
  },
  {
   "cell_type": "code",
   "execution_count": 101,
   "metadata": {
    "id": "GwBp5F6Bu4VB"
   },
   "outputs": [],
   "source": [
    "encoder_model= Model(inputs=encoder_inputs, outputs=[encoder_output3, state_h, state_c])\n",
    "\n",
    "#here we have used the decoder state to store the previous time state \n",
    "decoder_state_input_h= Input(shape=(latent_dim,))\n",
    "decoder_state_input_c= Input(shape=(latent_dim,))\n",
    "decoder_hidden_state_input= Input(shape=(max_text_length,latent_dim))\n",
    "\n",
    "#using the embedding layer to the decoder input \n",
    "dec_embd2= dec_em_ly(decoder_inputs)\n",
    "decoder_output2, state_h2,state_c2= decoder_lstm(dec_embd2, initial_state=[decoder_state_input_h, decoder_state_input_c])\n",
    "\n",
    "#this is a dense softmax layer to generate a probability distribution over the target variable\n",
    "decoder_output2= decoder_dense(decoder_output2)\n",
    "\n",
    "#final decoder output model \n",
    "decoder_model= Model([decoder_inputs]+[decoder_hidden_state_input, decoder_state_input_h, decoder_state_input_c],\n",
    "                     [decoder_output2]+ [state_h2,state_c2])\n",
    "\n"
   ]
  },
  {
   "cell_type": "code",
   "execution_count": 102,
   "metadata": {
    "id": "cqGatitAu4YZ"
   },
   "outputs": [],
   "source": [
    "def sequence_dec(input_seq):\n",
    "    e_out, e_h, e_c= encoder_model.predict(input_seq)\n",
    "    target_sequence= np.zeros((1,1))\n",
    "    target_sequence[0,0]= target_word_index['ssstok']\n",
    "\n",
    "    stop_condition=False\n",
    "    decode_sentences=''\n",
    "    while not stop_condition:\n",
    "        \n",
    "        output_token, h, c=decoder_model.predict([target_sequence]+[e_out, e_h,e_c])\n",
    "\n",
    "        sampled_token_index= np.argmax(output_token[0, -1, :])\n",
    "        sampled_token= reverse_target_word_index[sampled_token_index]\n",
    "\n",
    "        if (sampled_token!= 'eeetok'):\n",
    "            decode_sentences += ' '+sampled_token\n",
    "\n",
    "        if (sampled_token== 'eeetok' or len(decode_sentences.split())>= (max_summary_length-1)):\n",
    "            stop_condition= True\n",
    "\n",
    "            target_seguence=np.zeros((1,1))\n",
    "            target_sequence[0,0]= sampled_token_index\n",
    "\n",
    "            e_h, e_c= h,c\n",
    "\n",
    "    return decode_sentences  "
   ]
  },
  {
   "cell_type": "code",
   "execution_count": 103,
   "metadata": {
    "id": "2Nbl4LlvG37c"
   },
   "outputs": [],
   "source": [
    "def seq2summary(input_seq):\n",
    "    new_string=''\n",
    "    for i in input_seq:\n",
    "        if((i!=0 and i!=target_word_index['ssstok']) and i!=target_word_index['eeetok']):\n",
    "            new_string=new_string+reverse_target_word_index[i]+' '\n",
    "            \n",
    "    return new_string\n",
    "\n",
    "def seq2text(input_seq):\n",
    "    new_string=''\n",
    "    for i in input_seq:\n",
    "        if(i!=0):\n",
    "            new_string=new_string+reverse_source_word_index[i]+' '\n",
    "            \n",
    "    return new_string\n"
   ]
  },
  {
   "cell_type": "code",
   "execution_count": 104,
   "metadata": {
    "colab": {
     "base_uri": "https://localhost:8080/"
    },
    "id": "_oAFXV5jIbOK",
    "outputId": "559fc1ad-cc5c-4ed8-e4ff-fa9876948dbc",
    "scrolled": false
   },
   "outputs": [
    {
     "name": "stdout",
     "output_type": "stream",
     "text": [
      "Review -: ordered pb plain chocolate peanut butter variety vastly pleased mixed according directions eaten crackers mixed raisins sunflower seeds favorite use however refrigerator porridge recipe enjoy \n",
      "Orignal Summary -: pb \n",
      "Predicted Summary -:  delicious\n",
      "\n",
      "\n",
      "Review -: totally agree swiss miss suggestion maybe write swiss miss come cup \n",
      "Orignal Summary -: sucralose \n",
      "Predicted Summary -:  not good\n",
      "\n",
      "\n",
      "Review -: cut tiny calorie servings bit silly brownies wonderful fat free heaven willing mail order nonfat treat try hot frozen cool whip top send diet taste \n",
      "Orignal Summary -: delicious and wonderful treat \n",
      "Predicted Summary -:  delicious\n",
      "\n",
      "\n",
      "Review -: received order quickly much faster expected pepper loves cookies favorite pretty much anything get one nice sized fall apart cute shapes \n",
      "Orignal Summary -: pepper favorites \n",
      "Predicted Summary -:  great product\n",
      "\n",
      "\n",
      "Review -: twinings come winner variety pack highly recommended flavors pack best best disappointed purchase comes tea twinings best \n",
      "Orignal Summary -: twinings wonderfully delicious tea \n",
      "Predicted Summary -:  great tea\n",
      "\n",
      "\n",
      "Review -: product good ever used convenient amazon become hard find stores \n",
      "Orignal Summary -: good to use the bread machine again \n",
      "Predicted Summary -:  great product\n",
      "\n",
      "\n",
      "Review -: omg good know says butter flavored topping theatres better anything sacramento area stuff good great buttery flavor worth every penny suggestion pop natural popcorn add stuff yum \n",
      "Orignal Summary -: better than butter \n",
      "Predicted Summary -:  best tasting popcorn ever\n",
      "\n",
      "\n",
      "Review -: spectrum makes highest quality vitamins pleased spectrum fish oils vitamin capsules repeat user buyer reached word min \n",
      "Orignal Summary -: the best fish oils one can buy \n",
      "Predicted Summary -:  great product\n",
      "\n",
      "\n",
      "Review -: life heard mallomars never seen tried reasonably tasty darker chocolate coating real problem fully half marshmallow separated cookie base doubt buy better chocolate marshmallow cookies even walmart better \n",
      "Orignal Summary -: these are ok \n",
      "Predicted Summary -:  not as good as the last\n",
      "\n",
      "\n",
      "Review -: love juicy favorite rolling paper love paper different color makes interesting less ordinary \n",
      "Orignal Summary -: my favorite paper \n",
      "Predicted Summary -:  great flavor\n",
      "\n",
      "\n",
      "Review -: say great taste wake morning due morning limited work week much coffee consume leaving house rush hour coffee provides rich taste bitter love taste coffee quick wake coffee \n",
      "Orignal Summary -: good morning coffee \n",
      "Predicted Summary -:  great coffee\n",
      "\n",
      "\n",
      "Review -: got sample summer voxbox fell immediately love wrapper suggested heating microwave seconds let tell fantastic definitely buying regular basis \n",
      "Orignal Summary -: delicious \n",
      "Predicted Summary -:  delicious\n",
      "\n",
      "\n",
      "Review -: three king charles cavalier spaniels picky picky eaters even comes treats love peanut flavored booda bones one every day write review amazon opinions could known way \n",
      "Orignal Summary -: my dogs have rated bones stars \n",
      "Predicted Summary -:  my dog loves these\n",
      "\n",
      "\n",
      "Review -: product tasted horrible would recommend anyone ever says cherry mint say toothpaste want water tastes good better drink water \n",
      "Orignal Summary -: horrible taste \n",
      "Predicted Summary -:  tastes like plastic\n",
      "\n",
      "\n",
      "Review -: loved buying case popchips would buy regular basis price product great service great also altogether star experience gone chance selling original price thanks \n",
      "Orignal Summary -: popchips prices \n",
      "Predicted Summary -:  great chips\n",
      "\n",
      "\n",
      "Review -: love pens cake pops tried pens past found best far started purchasing black pens see worked worked really well purchased assorted colors \n",
      "Orignal Summary -: food \n",
      "Predicted Summary -:  great product\n",
      "\n",
      "\n",
      "Review -: husband hot chocolate lovers searched high low perfect hot chocolate tried different brands found perfect hot chocolate best hot chocolate ever tried cannot go wrong milk dark \n",
      "Orignal Summary -: best hot chocolate ever \n",
      "Predicted Summary -:  best hot cocoa ever\n",
      "\n",
      "\n",
      "Review -: expensive amazing treats dog goes crazy literally starts shaking gets whiff break apart easy smaller dog want make last longer \n",
      "Orignal Summary -: amazing treats \n",
      "Predicted Summary -:  my dog loves these\n",
      "\n",
      "\n",
      "Review -: freakin amazing grand alone worth cost buy one one rest family \n",
      "Orignal Summary -: yum \n",
      "Predicted Summary -:  delicious\n",
      "\n",
      "\n",
      "Review -: twenty five dollars bought stop shop package would enjoyed chocolate still enjoy way feel guilty grabbing handful would grabbing candy bar yummy great munch games car etc \n",
      "Orignal Summary -: these are delicious \n",
      "Predicted Summary -:  delicious\n",
      "\n",
      "\n",
      "Review -: love food baby especially packaging great feeding baby go bit good baby like mix oatmeal breakfast great price compared grocery store \n",
      "Orignal Summary -: great organic baby food \n",
      "Predicted Summary -:  great food\n",
      "\n",
      "\n",
      "Review -: get delivered xmas \n",
      "Orignal Summary -: great gift \n",
      "Predicted Summary -:  great\n",
      "\n",
      "\n",
      "Review -: chips great snack want junk chips try shall like \n",
      "Orignal Summary -: organic yummy chips what more can you for \n",
      "Predicted Summary -:  great chips\n",
      "\n",
      "\n",
      "Review -: great salads pasta convenient need go store pick \n",
      "Orignal Summary -: delicious \n",
      "Predicted Summary -:  great tasting\n",
      "\n",
      "\n",
      "Review -: someone gave jar pb thought awful yuck thank goodness actually pay money nasty \n",
      "Orignal Summary -: this stuff is nasty \n",
      "Predicted Summary -:  awful\n",
      "\n",
      "\n",
      "Review -: mailed husband deployed afghanistan great product free shipping \n",
      "Orignal Summary -: great for \n",
      "Predicted Summary -:  great product\n",
      "\n",
      "\n",
      "Review -: alot research product products give pets first good pet pet like product really like fact natural healthy manufacturing product seems state art \n",
      "Orignal Summary -: love my pet \n",
      "Predicted Summary -:  great food\n",
      "\n",
      "\n",
      "Review -: really good tender little sweet easy make whirley pop excellent cheddar spice popcorn seasoning \n",
      "Orignal Summary -: keep \n",
      "Predicted Summary -:  great popcorn\n",
      "\n",
      "\n",
      "Review -: worked really nice got flu came gluten allergy tons cheerios nice packing makes easy kids travel lot recommend honey nut actually little better \n",
      "Orignal Summary -: bought this to lower and because travel lot \n",
      "Predicted Summary -:  great product\n",
      "\n",
      "\n",
      "Review -: use powder smoothies morning coffee tastes great raw organic reasonably priced well \n",
      "Orignal Summary -: great love this stuff \n",
      "Predicted Summary -:  great product\n",
      "\n",
      "\n",
      "Review -: health bar kind bar compete treats peanuts mars bars baby etc one dark chocolate peanuts favorite put freezer make great summer treat \n",
      "Orignal Summary -: yummy yummy yummy \n",
      "Predicted Summary -:  great snack\n",
      "\n",
      "\n",
      "Review -: great dish asian foods rice etc texture syrupy soy sauce sweeter \n",
      "Orignal Summary -: sweet soy sauce \n",
      "Predicted Summary -:  great stuff\n",
      "\n",
      "\n",
      "Review -: cookies horrible taste nothing like sesame cookies get new jersey many flavors competing anise yuck \n",
      "Orignal Summary -: gross \n",
      "Predicted Summary -:  not good\n",
      "\n",
      "\n",
      "Review -: way powdery tasting bad aftertaste plus price could believe junk skip stay lemonade yuck \n",
      "Orignal Summary -: bad aftertaste \n",
      "Predicted Summary -:  not good\n",
      "\n",
      "\n",
      "Review -: nuts subtle cocoa taste nothing enjoyable flavor quite unique lightly salted \n",
      "Orignal Summary -: subtle satisfying taste \n",
      "Predicted Summary -:  not as good as the last\n",
      "\n",
      "\n",
      "Review -: great value chews great alternative raw hide since dissolve would recommend item vendor anyone try pricing chews vet office shall see \n",
      "Orignal Summary -: great value \n",
      "Predicted Summary -:  great deal\n",
      "\n",
      "\n",
      "Review -: wanted find good training treat month old puppy kept interested enough listen training best treats smell yummy never gets tired highly recommend healthy \n",
      "Orignal Summary -: best training treats \n",
      "Predicted Summary -:  my dogs love these\n",
      "\n",
      "\n",
      "Review -: thing dog might like close greenie dental chews need order \n",
      "Orignal Summary -: taste good and helps with her hips \n",
      "Predicted Summary -:  dog loves it\n",
      "\n",
      "\n",
      "Review -: put chemical garbage body pure original tastes good price considerably better price local grocery store ordered checked local prices would store pantry yummy \n",
      "Orignal Summary -: does not get better than this \n",
      "Predicted Summary -:  good but not great\n",
      "\n",
      "\n",
      "Review -: plastic packaging airtight might want stick cans preserve freshness \n",
      "Orignal Summary -: not quite fresh but okay cashews \n",
      "Predicted Summary -:  not what expected\n",
      "\n",
      "\n",
      "Review -: purchased snack workouts find snacking time really good come variety flavors \n",
      "Orignal Summary -: good after workout snack \n",
      "Predicted Summary -:  great snack\n",
      "\n",
      "\n",
      "Review -: bought coffee daughter coffee grinder read brand coffee taste test supermarket coffees say real winner good price amazon could pass \n",
      "Orignal Summary -: these beans make tasty coffee \n",
      "Predicted Summary -:  good coffee\n",
      "\n",
      "\n",
      "Review -: dont care blueberry blackberry pomegranate seriously mixed water dirt added fake sugar would still taste better stuff got try work little extra boost unfiltered tap water better crap sorry honest \n",
      "Orignal Summary -: terrible \n",
      "Predicted Summary -:  tastes like plastic\n",
      "\n",
      "\n",
      "Review -: tried whim eating jiffy brand ones time taste better quick easy make add water definitely buy \n",
      "Orignal Summary -: great taste fast and easy \n",
      "Predicted Summary -:  best jerky ever\n",
      "\n",
      "\n",
      "Review -: really like pamelas products whenever bars chocolately coconut taste sweet great grams sugar filling would order future \n",
      "Orignal Summary -: great taste \n",
      "Predicted Summary -:  great taste\n",
      "\n",
      "\n",
      "Review -: year old great dane itching lot lamb meal big box stores started buying stopped itching coat also looking shinier wish would discovered years ago saves trips pet store money also \n",
      "Orignal Summary -: perfect for great \n",
      "Predicted Summary -:  great food\n",
      "\n",
      "\n",
      "Review -: truly best tasting peppermint tea ever tasted use bags twice saying lot tea gave mom box words almost identical mine plus helps digestive issues try \n",
      "Orignal Summary -: true taste of peppermint \n",
      "Predicted Summary -:  best tea ever\n",
      "\n",
      "\n",
      "Review -: found local grocery store quite expensive checked amazon found much cheaper taste like shortbread cookies quite delicious however mine arrived broken pieces \n",
      "Orignal Summary -: good style biscuits \n",
      "Predicted Summary -:  good but not great\n",
      "\n",
      "\n",
      "Review -: bars less sugar content compared nutrition bars yet tasty eat meals workout snacks \n",
      "Orignal Summary -: great snacks \n",
      "Predicted Summary -:  great snack\n",
      "\n",
      "\n",
      "Review -: pudding smooth creamy tasty eat snacks enjoy savings national brands \n",
      "Orignal Summary -: as good as advertised brands \n",
      "Predicted Summary -:  great\n",
      "\n",
      "\n",
      "Review -: delighted dry roasted macadamia nuts mauna loa prompt service seller happy mauna loa using sea salt season macadamia nut products definitely buy product seller thank \n",
      "Orignal Summary -: absolutely delicious macadamia nuts the best \n",
      "Predicted Summary -:  great product\n",
      "\n",
      "\n",
      "Review -: like noodles difference takes twice much cook sauce comes extremely horrible tastes bad use spaghetti sauce would eat rest left really hungry would buy would recommend \n",
      "Orignal Summary -: not so good \n",
      "Predicted Summary -:  not so good\n",
      "\n",
      "\n",
      "Review -: doggies eagerly look forward biscuits every day feed raw turkey chicken used treat getting amazon economical way us broken like boxes picked pet stores \n",
      "Orignal Summary -: good for dogs on raw diet \n",
      "Predicted Summary -:  my dogs love them\n",
      "\n",
      "\n",
      "Review -: love chips subscribe save get case every two months order often eat bag lunch every day tasty great snack weight watchers give try \n",
      "Orignal Summary -: yum \n",
      "Predicted Summary -:  great snack\n",
      "\n",
      "\n",
      "Review -: ordered flavor error decided keep prefer french vanilla flavor bad substitute caramel flavor intense good balance vanilla caramel \n",
      "Orignal Summary -: close second to french vanilla \n",
      "Predicted Summary -:  not so good\n",
      "\n",
      "\n",
      "Review -: nice taste low calorie protein ratio good losing weight maintaining \n",
      "Orignal Summary -: like these more than the rest \n",
      "Predicted Summary -:  good\n",
      "\n",
      "\n",
      "Review -: use sauce pretty much everything mexican sandwiches well really good give stars \n",
      "Orignal Summary -: amazing sauce \n",
      "Predicted Summary -:  great sauce\n",
      "\n",
      "\n",
      "Review -: receiving via subscribe save several years price went bye bye \n",
      "Orignal Summary -: pricing up over \n",
      "Predicted Summary -:  great price\n",
      "\n",
      "\n",
      "Review -: totally disgusting went directly garbage fussy eater walden farms worst product \n",
      "Orignal Summary -: yuck \n",
      "Predicted Summary -:  awful\n",
      "\n",
      "\n",
      "Review -: dont sucker buy walmart many stores around great product though dogs love \n",
      "Orignal Summary -: ridiculously overpriced \n",
      "Predicted Summary -:  dogs love it\n",
      "\n",
      "\n",
      "Review -: cannot find oz container equal grocery stores purchased amazon easy delivered right door \n",
      "Orignal Summary -: equal large size \n",
      "Predicted Summary -:  great price\n",
      "\n",
      "\n",
      "Review -: handfuls saw ingredients proven beyond doubt cause cancer shall wonder could company put wonderful food like walnuts together one worst ingredients known \n",
      "Orignal Summary -: is bad \n",
      "Predicted Summary -:  do not waste your money\n",
      "\n",
      "\n",
      "Review -: lower calorie greenies dog ordered would fingers great teeth waist line beat brushing \n",
      "Orignal Summary -: dog they are great \n",
      "Predicted Summary -:  great product\n",
      "\n",
      "\n",
      "Review -: ok sounds crazy know heard baby food diet figured whats loose food tastes good im sure baby like \n",
      "Orignal Summary -: got this for diet tried \n",
      "Predicted Summary -:  not so\n",
      "\n",
      "\n",
      "Review -: great snack dog food allergies chicken pound sheltie loves chew rawhide given highly recommend dog especially one food allergies \n",
      "Orignal Summary -: my them \n",
      "Predicted Summary -:  great product\n",
      "\n",
      "\n",
      "Review -: purchasing feel badly people said eggs stale arrived within two days fresh another good deal amazon \n",
      "Orignal Summary -: had no issues \n",
      "Predicted Summary -:  great product\n",
      "\n",
      "\n",
      "Review -: stuff great vegetarian fiance parents around house one day sick tried chicken broth gross perfect taste beyond palatable amazing want start using recipes \n",
      "Orignal Summary -: heaven \n",
      "Predicted Summary -:  best ever\n",
      "\n",
      "\n",
      "Review -: bichon loves keeps chewing things around house good teeth originally got vet found petco made people cheaper petco longer carries order line even less \n",
      "Orignal Summary -: chews are great \n",
      "Predicted Summary -:  great product\n",
      "\n",
      "\n",
      "Review -: bought pomegranates blueberry flavor taste good would tasted better put refrigerator love \n",
      "Orignal Summary -: great chocolate snack \n",
      "Predicted Summary -:  good jerky\n",
      "\n",
      "\n",
      "Review -: weruva cat food jack amazon smells good enough humans cats food cats little noses love food thank \n",
      "Orignal Summary -: cats love this product \n",
      "Predicted Summary -:  my cats love it\n",
      "\n",
      "\n",
      "Review -: love smell stuff husband daughter usually ones drinking always makes want another cup coffee good smelling stuff tastes great way around win \n",
      "Orignal Summary -: comfort coffee \n",
      "Predicted Summary -:  great coffee\n",
      "\n",
      "\n",
      "Review -: live way even closest little town stores carry liptons loose tea want tea bags economical reasons convenience subscribing scheduled shipment reasonable price wonderful thank \n",
      "Orignal Summary -: convenience and \n",
      "Predicted Summary -:  great tea\n",
      "\n",
      "\n",
      "Review -: worst popcorn ive ever bought chewy fluffy gave birds bird food postage outrageous good experience around wont buying ever \n",
      "Orignal Summary -: amish popcorn \n",
      "Predicted Summary -:  not what expected\n",
      "\n",
      "\n",
      "Review -: peanut butter soft creamy adult really liked plan purchasing future want something healthy \n",
      "Orignal Summary -: peanut butter \n",
      "Predicted Summary -:  yummy\n",
      "\n",
      "\n",
      "Review -: buy cats dogs royal canin love one cat likes wet food loves chunks food gravy \n",
      "Orignal Summary -: love royal canin \n",
      "Predicted Summary -:  my cats love it\n",
      "\n",
      "\n",
      "Review -: quality product works cost prevent caused used showing riding \n",
      "Orignal Summary -: raspberry leaves to in \n",
      "Predicted Summary -:  good quality but\n",
      "\n",
      "\n",
      "Review -: stevia sweetener use save zero natural sweetener find organic product double plus \n",
      "Orignal Summary -: stevia \n",
      "Predicted Summary -:  not as good as the original\n",
      "\n",
      "\n",
      "Review -: good quick meal breakfast bit spicy half sources pack good enough cook \n",
      "Orignal Summary -: nice quick noodle bit spicy \n",
      "Predicted Summary -:  good stuff\n",
      "\n",
      "\n",
      "Review -: honey granules tasty welcome alternative cane sugar use morning oats bird custard tea one two go long way better stored refrigerator consider place processed store bought cane sugar \n",
      "Orignal Summary -: tasty alternative to sugar \n",
      "Predicted Summary -:  very tasty\n",
      "\n",
      "\n",
      "Review -: use tea everyday good flavor excellent price fast shipping great packaging order today \n",
      "Orignal Summary -: love this honey \n",
      "Predicted Summary -:  great tea\n",
      "\n",
      "\n",
      "Review -: product dog loves pleased find enter bought pet store longer carry buy \n",
      "Orignal Summary -: salmon dog treats \n",
      "Predicted Summary -:  great product\n",
      "\n",
      "\n",
      "Review -: outstanding snack super fast lives review saw food network make sure shake pkg really good microwaving super \n",
      "Orignal Summary -: best snack ever \n",
      "Predicted Summary -:  great snack\n",
      "\n",
      "\n",
      "Review -: maybe better fresh could ruin dental work careful chewing taste great \n",
      "Orignal Summary -: little to hard \n",
      "Predicted Summary -:  not for me\n",
      "\n",
      "\n",
      "Review -: waffle crisp say grandsons favorite cereal know cannot find austin texas wish could \n",
      "Orignal Summary -: waffle crisp \n",
      "Predicted Summary -:  best rice ever\n",
      "\n",
      "\n",
      "Review -: best snack food ever spicy healthy calorie packs blessing could drawback make fingers messy small price pay \n",
      "Orignal Summary -: delicious and addictive \n",
      "Predicted Summary -:  great snack\n",
      "\n",
      "\n",
      "Review -: lamb rice formula awesome used years without doggy digestive problems photo description amazon wrong though amazon currently shipping new oatmeal lamb formula dog cannot eat digestive issues oatmeal \n",
      "Orignal Summary -: oatmeal and lamb \n",
      "Predicted Summary -:  great product\n",
      "\n",
      "\n",
      "Review -: delicious cup coffee weak heart bam emeril maintains reputation brew pack amazon best deal town definitely buy cups keurig brewer \n",
      "Orignal Summary -: strong bold and delicious \n",
      "Predicted Summary -:  great coffee\n",
      "\n",
      "\n",
      "Review -: cat mango loves cat food brand food eat daily basis also purchased cat brand tuna salmon amazon com loves food also try alternate food daily basis give variety \n",
      "Orignal Summary -: cat canned cat food \n",
      "Predicted Summary -:  my cats love this\n",
      "\n",
      "\n",
      "Review -: lb food low fat content thriving mix canned natural balance duck potato food loves \n",
      "Orignal Summary -: natural balance lid small kibble \n",
      "Predicted Summary -:  my dog loves it\n",
      "\n",
      "\n",
      "Review -: use morton seasoning make sausage love product happy found amazon family like flavor sausage including bob dean great product \n",
      "Orignal Summary -: seasoning \n",
      "Predicted Summary -:  great seasoning\n",
      "\n",
      "\n",
      "Review -: need fold hot sauce definitely husband loves stuff packaging unfortunately bit lacking time got us post office tape packing material come apart transit shipping speed wonderful would order \n",
      "Orignal Summary -: love the hot sauce hate the packaging \n",
      "Predicted Summary -:  great product\n",
      "\n",
      "\n",
      "Review -: salsa definitely one books perfect blend pepper seasonings made perfect dip half time grown men crying soooo hot small price pay jar perfect cream cheese dip across board \n",
      "Orignal Summary -: salsa review \n",
      "Predicted Summary -:  the best\n",
      "\n",
      "\n",
      "Review -: prunes really helps smoothness baby pooping really works make sure give much else much pooping runny \n",
      "Orignal Summary -: great for baby \n",
      "Predicted Summary -:  great for\n",
      "\n",
      "\n",
      "Review -: searching good vitamin year old liked liquid ones best hated taste found one friend recommendation loves great price great quality good vitamin \n",
      "Orignal Summary -: great \n",
      "Predicted Summary -:  good stuff\n",
      "\n",
      "\n",
      "Review -: bought specific recipe book like flavor much looking ways use cake made turned beautifully cookies cookies even last next day flavor mild present baked goods custard creams \n",
      "Orignal Summary -: great product \n",
      "Predicted Summary -:  great product\n",
      "\n",
      "\n",
      "Review -: spaghetti best ever even tastier wheat varieties get gummy like regular wheat spaghetti even gluten intolerant would choose wheat spaghetti good love \n",
      "Orignal Summary -: better than wheat spaghetti \n",
      "Predicted Summary -:  best gluten free pasta\n",
      "\n",
      "\n",
      "Review -: shipped nice package complain seller plant growing bigger looking bigger pot good looking plant needs minimal maintenance plant might need \n",
      "Orignal Summary -: like it lot \n",
      "Predicted Summary -:  great gift\n",
      "\n",
      "\n",
      "Review -: love blueberry coffee good purchase get whole bean get ground send oils flavoring make tough \n",
      "Orignal Summary -: tasty \n",
      "Predicted Summary -:  good but not great\n",
      "\n",
      "\n",
      "Review -: bread awesome little chewy typical bread soooo good definitely getting \n",
      "Orignal Summary -: wonderful \n",
      "Predicted Summary -:  great bread\n",
      "\n",
      "\n",
      "Review -: bars good loved warmed definitely think great snack breakfast received product free influenster \n",
      "Orignal Summary -: yum \n",
      "Predicted Summary -:  great snack\n",
      "\n",
      "\n"
     ]
    }
   ],
   "source": [
    "for i in range(0,100):\n",
    "    print('Review -:', seq2text(x_train[i]))\n",
    "    print('Orignal Summary -:', seq2summary(y_train[i]))\n",
    "    print('Predicted Summary -:', sequence_dec(x_train[i].reshape(1,max_text_length)))\n",
    "    print(\"\\n\")"
   ]
  },
  {
   "cell_type": "code",
   "execution_count": null,
   "metadata": {
    "id": "JbRb5OhvJfoK"
   },
   "outputs": [],
   "source": []
  }
 ],
 "metadata": {
  "accelerator": "GPU",
  "colab": {
   "collapsed_sections": [],
   "machine_shape": "hm",
   "name": "Amazon review Summarization.ipynb",
   "provenance": []
  },
  "kernelspec": {
   "display_name": "Python 3",
   "language": "python",
   "name": "python3"
  },
  "language_info": {
   "codemirror_mode": {
    "name": "ipython",
    "version": 3
   },
   "file_extension": ".py",
   "mimetype": "text/x-python",
   "name": "python",
   "nbconvert_exporter": "python",
   "pygments_lexer": "ipython3",
   "version": "3.7.3"
  }
 },
 "nbformat": 4,
 "nbformat_minor": 1
}
